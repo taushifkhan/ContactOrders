{
 "metadata": {
  "name": "",
  "signature": "sha256:cb9b4bea17562ce67603a0772e3eae88595662334696f71b7f72aa78eeb9067d"
 },
 "nbformat": 3,
 "nbformat_minor": 0,
 "worksheets": [
  {
   "cells": [
    {
     "cell_type": "code",
     "collapsed": false,
     "input": [
      "import MySQLdb as mdb\n",
      "import numpy as Np\n",
      "\n",
      "con = mdb.connect('localhost','root','biokhan','projTop')"
     ],
     "language": "python",
     "metadata": {},
     "outputs": [],
     "prompt_number": 2
    },
    {
     "cell_type": "code",
     "collapsed": false,
     "input": [
      "cur = con.cursor()\n",
      "cur.execute('select pid_chain,residues,contact_order from descriptors_all')\n",
      "desc_protein = Np.array(cur.fetchall())"
     ],
     "language": "python",
     "metadata": {},
     "outputs": [],
     "prompt_number": 4
    },
    {
     "cell_type": "code",
     "collapsed": false,
     "input": [],
     "language": "python",
     "metadata": {},
     "outputs": []
    }
   ],
   "metadata": {}
  }
 ]
}