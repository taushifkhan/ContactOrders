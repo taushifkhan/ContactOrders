{
 "cells": [
  {
   "cell_type": "code",
   "execution_count": 1,
   "metadata": {
    "collapsed": false
   },
   "outputs": [
    {
     "name": "stdout",
     "output_type": "stream",
     "text": [
      "['1AYI', 'Two', 'a', 85, 3.13, 1.0]\n",
      "102\n"
     ]
    }
   ],
   "source": [
    "import pandas as pd\n",
    "flkin = open('./kineticDATA_Broom_2015','r').readlines()\n",
    "\n",
    "kinDictionary = {}\n",
    "for k in range(1,len(flkin)-1):\n",
    "    kt = flkin[k].strip().split()\n",
    "    #print len(kt),#[kt[0],kt[1],kt[2],kt[3],kt[4],kt[5]]\n",
    "    ## PDB\\tKinetic\\tClass\\tPDB_length\\tlog kf\\tlog ku\n",
    "    kinDictionary[kt[0]]=[kt[0],kt[1],kt[2],int(kt[3]),float(kt[5]),float(kt[6])] \n",
    "print kinDictionary['1AYI']\n",
    "\n",
    "cfl_broom = open('./out_kineticIds','r').readlines()\n",
    "cBromDic = {}\n",
    "BroomData = []\n",
    "\n",
    "for k in cfl_broom[1:]:\n",
    "    kt = k.strip().split()\n",
    "    cBromDic[kt[0]] = kt\n",
    "\n",
    "d = 0\n",
    "for k in kinDictionary.keys():\n",
    "    if k in cBromDic.keys():\n",
    "        BroomData.append([k,kinDictionary[k][1],kinDictionary[k][2],kinDictionary[k][3],kinDictionary[k][4],\\\n",
    "                          kinDictionary[k][5],float(cBromDic[k][5]),float(cBromDic[k][6]),float(cBromDic[k][7]),\\\n",
    "                          float(cBromDic[k][8]),float(cBromDic[k][9]),float(cBromDic[k][10]),\\\n",
    "                          float(cBromDic[k][11]),float(cBromDic[k][12]),float(cBromDic[k][13]),float(cBromDic[k][14])])\n",
    "        \n",
    "        #print k, kinDictionary[k][3], cBromDic[k][0],cBromDic[k][2]\n",
    "        d += 1\n",
    "print d"
   ]
  },
  {
   "cell_type": "code",
   "execution_count": 2,
   "metadata": {
    "collapsed": false
   },
   "outputs": [],
   "source": [
    "cfl_broom_6A = open('./out_kineticIds_6A_CA','r').readlines()\n",
    "cBromDic_6A = {}\n",
    "BroomData_6A = []\n",
    "\n",
    "for k in cfl_broom_6A[1:]:\n",
    "    kt = k.strip().split()\n",
    "    cBromDic_6A[kt[0]] = kt\n",
    "\n",
    "d = 0\n",
    "for k in kinDictionary.keys():\n",
    "    if k in cBromDic_6A.keys():\n",
    "        BroomData_6A.append([k,kinDictionary[k][1],kinDictionary[k][2],kinDictionary[k][3],kinDictionary[k][4],\\\n",
    "                          kinDictionary[k][5],float(cBromDic_6A[k][5]),float(cBromDic_6A[k][6]),float(cBromDic_6A[k][7]),\\\n",
    "                          float(cBromDic_6A[k][8]),float(cBromDic_6A[k][9]),float(cBromDic_6A[k][10]),\\\n",
    "                          float(cBromDic_6A[k][11]),float(cBromDic_6A[k][12]),float(cBromDic_6A[k][13]),\\\n",
    "                          float(cBromDic_6A[k][14])])\n",
    "        #print k, kinDictionary[k][3], cBromDic[k][0],cBromDic[k][2]\n",
    "        d += 1"
   ]
  },
  {
   "cell_type": "code",
   "execution_count": 3,
   "metadata": {
    "collapsed": false
   },
   "outputs": [
    {
     "data": {
      "text/plain": [
       "(104, 104)"
      ]
     },
     "execution_count": 3,
     "metadata": {},
     "output_type": "execute_result"
    }
   ],
   "source": [
    "len(cfl_broom_6A),len(cfl_broom)"
   ]
  },
  {
   "cell_type": "code",
   "execution_count": 4,
   "metadata": {
    "collapsed": false
   },
   "outputs": [],
   "source": [
    "colnames = ['pid','ktype','class','length','log kf','log ku','rco','aco','sro','lro','sr_per','mr_per','lr_per','lco','nlco','tcd']\n",
    "BrDf = pd.DataFrame(BroomData,columns=colnames)\n",
    "#BrDf.describe()\n",
    "\n",
    "BrDf_6A = pd.DataFrame(BroomData_6A,columns=colnames)\n",
    "#BrDf_6A.describe()"
   ]
  },
  {
   "cell_type": "code",
   "execution_count": 5,
   "metadata": {
    "collapsed": false
   },
   "outputs": [
    {
     "data": {
      "text/html": [
       "<div style=\"max-height:1000px;max-width:1500px;overflow:auto;\">\n",
       "<table border=\"1\" class=\"dataframe\">\n",
       "  <thead>\n",
       "    <tr style=\"text-align: right;\">\n",
       "      <th></th>\n",
       "      <th>length</th>\n",
       "      <th>log kf</th>\n",
       "      <th>log ku</th>\n",
       "      <th>rco</th>\n",
       "      <th>aco</th>\n",
       "      <th>sro</th>\n",
       "      <th>lro</th>\n",
       "      <th>sr_per</th>\n",
       "      <th>mr_per</th>\n",
       "      <th>lr_per</th>\n",
       "      <th>lco</th>\n",
       "      <th>nlco</th>\n",
       "      <th>tcd</th>\n",
       "    </tr>\n",
       "  </thead>\n",
       "  <tbody>\n",
       "    <tr>\n",
       "      <th>count</th>\n",
       "      <td> 102.000000</td>\n",
       "      <td> 102.000000</td>\n",
       "      <td> 102.000000</td>\n",
       "      <td> 102.000000</td>\n",
       "      <td> 102.000000</td>\n",
       "      <td> 102.000000</td>\n",
       "      <td> 102.000000</td>\n",
       "      <td> 102.000000</td>\n",
       "      <td> 102.000000</td>\n",
       "      <td> 102.000000</td>\n",
       "      <td> 102.000000</td>\n",
       "      <td> 102.000000</td>\n",
       "      <td> 102.000000</td>\n",
       "    </tr>\n",
       "    <tr>\n",
       "      <th>mean</th>\n",
       "      <td>  98.245098</td>\n",
       "      <td>   1.968235</td>\n",
       "      <td>  -1.505882</td>\n",
       "      <td>   0.179118</td>\n",
       "      <td>  16.441824</td>\n",
       "      <td>   2.080373</td>\n",
       "      <td>   1.246157</td>\n",
       "      <td>  50.866873</td>\n",
       "      <td>   9.076588</td>\n",
       "      <td>  34.045088</td>\n",
       "      <td>   1.922951</td>\n",
       "      <td>  13.731804</td>\n",
       "      <td>   0.021208</td>\n",
       "    </tr>\n",
       "    <tr>\n",
       "      <th>std</th>\n",
       "      <td>  51.548965</td>\n",
       "      <td>   1.893717</td>\n",
       "      <td>   2.929280</td>\n",
       "      <td>   0.063285</td>\n",
       "      <td>   7.970960</td>\n",
       "      <td>   0.400619</td>\n",
       "      <td>   0.586482</td>\n",
       "      <td>  14.659213</td>\n",
       "      <td>   3.486385</td>\n",
       "      <td>  14.061522</td>\n",
       "      <td>   0.476421</td>\n",
       "      <td>   8.241546</td>\n",
       "      <td>   0.026006</td>\n",
       "    </tr>\n",
       "    <tr>\n",
       "      <th>min</th>\n",
       "      <td>  16.000000</td>\n",
       "      <td>  -3.870000</td>\n",
       "      <td> -10.420000</td>\n",
       "      <td>   0.050000</td>\n",
       "      <td>   3.778000</td>\n",
       "      <td>   0.865000</td>\n",
       "      <td>   0.000000</td>\n",
       "      <td>  30.479000</td>\n",
       "      <td>   2.000000</td>\n",
       "      <td>   0.000000</td>\n",
       "      <td>   1.117000</td>\n",
       "      <td>   0.000000</td>\n",
       "      <td>   0.000000</td>\n",
       "    </tr>\n",
       "    <tr>\n",
       "      <th>25%</th>\n",
       "      <td>  62.500000</td>\n",
       "      <td>   0.762500</td>\n",
       "      <td>  -3.497500</td>\n",
       "      <td>   0.131500</td>\n",
       "      <td>  10.293500</td>\n",
       "      <td>   1.782000</td>\n",
       "      <td>   0.701250</td>\n",
       "      <td>  38.832250</td>\n",
       "      <td>   6.518250</td>\n",
       "      <td>  22.205500</td>\n",
       "      <td>   1.548500</td>\n",
       "      <td>   7.597250</td>\n",
       "      <td>   0.007625</td>\n",
       "    </tr>\n",
       "    <tr>\n",
       "      <th>50%</th>\n",
       "      <td>  89.000000</td>\n",
       "      <td>   1.910000</td>\n",
       "      <td>  -1.715000</td>\n",
       "      <td>   0.174500</td>\n",
       "      <td>  15.174500</td>\n",
       "      <td>   2.022500</td>\n",
       "      <td>   1.385000</td>\n",
       "      <td>  47.763500</td>\n",
       "      <td>   8.729500</td>\n",
       "      <td>  38.779500</td>\n",
       "      <td>   1.777500</td>\n",
       "      <td>  12.663500</td>\n",
       "      <td>   0.013708</td>\n",
       "    </tr>\n",
       "    <tr>\n",
       "      <th>75%</th>\n",
       "      <td> 123.000000</td>\n",
       "      <td>   3.170000</td>\n",
       "      <td>   0.120000</td>\n",
       "      <td>   0.228500</td>\n",
       "      <td>  21.995250</td>\n",
       "      <td>   2.438000</td>\n",
       "      <td>   1.685750</td>\n",
       "      <td>  60.868750</td>\n",
       "      <td>  11.204750</td>\n",
       "      <td>  44.102000</td>\n",
       "      <td>   2.317500</td>\n",
       "      <td>  19.016750</td>\n",
       "      <td>   0.024308</td>\n",
       "    </tr>\n",
       "    <tr>\n",
       "      <th>max</th>\n",
       "      <td> 307.000000</td>\n",
       "      <td>   5.430000</td>\n",
       "      <td>   5.730000</td>\n",
       "      <td>   0.407000</td>\n",
       "      <td>  43.401000</td>\n",
       "      <td>   2.815000</td>\n",
       "      <td>   2.462000</td>\n",
       "      <td>  84.138000</td>\n",
       "      <td>  18.919000</td>\n",
       "      <td>  57.683000</td>\n",
       "      <td>   3.028000</td>\n",
       "      <td>  41.566000</td>\n",
       "      <td>   0.191406</td>\n",
       "    </tr>\n",
       "  </tbody>\n",
       "</table>\n",
       "<p>8 rows × 13 columns</p>\n",
       "</div>"
      ],
      "text/plain": [
       "           length      log kf      log ku         rco         aco         sro  \\\n",
       "count  102.000000  102.000000  102.000000  102.000000  102.000000  102.000000   \n",
       "mean    98.245098    1.968235   -1.505882    0.179118   16.441824    2.080373   \n",
       "std     51.548965    1.893717    2.929280    0.063285    7.970960    0.400619   \n",
       "min     16.000000   -3.870000  -10.420000    0.050000    3.778000    0.865000   \n",
       "25%     62.500000    0.762500   -3.497500    0.131500   10.293500    1.782000   \n",
       "50%     89.000000    1.910000   -1.715000    0.174500   15.174500    2.022500   \n",
       "75%    123.000000    3.170000    0.120000    0.228500   21.995250    2.438000   \n",
       "max    307.000000    5.430000    5.730000    0.407000   43.401000    2.815000   \n",
       "\n",
       "              lro      sr_per      mr_per      lr_per         lco        nlco  \\\n",
       "count  102.000000  102.000000  102.000000  102.000000  102.000000  102.000000   \n",
       "mean     1.246157   50.866873    9.076588   34.045088    1.922951   13.731804   \n",
       "std      0.586482   14.659213    3.486385   14.061522    0.476421    8.241546   \n",
       "min      0.000000   30.479000    2.000000    0.000000    1.117000    0.000000   \n",
       "25%      0.701250   38.832250    6.518250   22.205500    1.548500    7.597250   \n",
       "50%      1.385000   47.763500    8.729500   38.779500    1.777500   12.663500   \n",
       "75%      1.685750   60.868750   11.204750   44.102000    2.317500   19.016750   \n",
       "max      2.462000   84.138000   18.919000   57.683000    3.028000   41.566000   \n",
       "\n",
       "              tcd  \n",
       "count  102.000000  \n",
       "mean     0.021208  \n",
       "std      0.026006  \n",
       "min      0.000000  \n",
       "25%      0.007625  \n",
       "50%      0.013708  \n",
       "75%      0.024308  \n",
       "max      0.191406  \n",
       "\n",
       "[8 rows x 13 columns]"
      ]
     },
     "execution_count": 5,
     "metadata": {},
     "output_type": "execute_result"
    }
   ],
   "source": [
    "BrDf.describe()"
   ]
  },
  {
   "cell_type": "code",
   "execution_count": 6,
   "metadata": {
    "collapsed": false
   },
   "outputs": [
    {
     "data": {
      "text/html": [
       "<div style=\"max-height:1000px;max-width:1500px;overflow:auto;\">\n",
       "<table border=\"1\" class=\"dataframe\">\n",
       "  <thead>\n",
       "    <tr style=\"text-align: right;\">\n",
       "      <th></th>\n",
       "      <th>length</th>\n",
       "      <th>log kf</th>\n",
       "      <th>log ku</th>\n",
       "      <th>rco</th>\n",
       "      <th>aco</th>\n",
       "      <th>sro</th>\n",
       "      <th>lro</th>\n",
       "      <th>sr_per</th>\n",
       "      <th>mr_per</th>\n",
       "      <th>lr_per</th>\n",
       "      <th>lco</th>\n",
       "      <th>nlco</th>\n",
       "      <th>tcd</th>\n",
       "    </tr>\n",
       "  </thead>\n",
       "  <tbody>\n",
       "    <tr>\n",
       "      <th>count</th>\n",
       "      <td> 102.000000</td>\n",
       "      <td> 102.000000</td>\n",
       "      <td> 102.000000</td>\n",
       "      <td> 102.000000</td>\n",
       "      <td> 102.000000</td>\n",
       "      <td> 102.000000</td>\n",
       "      <td> 102.000000</td>\n",
       "      <td> 102.000000</td>\n",
       "      <td> 102.000000</td>\n",
       "      <td> 102.000000</td>\n",
       "      <td> 102.000000</td>\n",
       "      <td> 102.000000</td>\n",
       "      <td> 102.000000</td>\n",
       "    </tr>\n",
       "    <tr>\n",
       "      <th>mean</th>\n",
       "      <td>  98.245098</td>\n",
       "      <td>   1.968235</td>\n",
       "      <td>  -1.505882</td>\n",
       "      <td>   0.162206</td>\n",
       "      <td>  14.569343</td>\n",
       "      <td>   1.032059</td>\n",
       "      <td>   0.461961</td>\n",
       "      <td>  55.221000</td>\n",
       "      <td>   8.357284</td>\n",
       "      <td>  30.029618</td>\n",
       "      <td>   1.948353</td>\n",
       "      <td>  11.879745</td>\n",
       "      <td>   0.009931</td>\n",
       "    </tr>\n",
       "    <tr>\n",
       "      <th>std</th>\n",
       "      <td>  51.548965</td>\n",
       "      <td>   1.893717</td>\n",
       "      <td>   2.929280</td>\n",
       "      <td>   0.087499</td>\n",
       "      <td>   8.306179</td>\n",
       "      <td>   0.438993</td>\n",
       "      <td>   0.288140</td>\n",
       "      <td>  24.117707</td>\n",
       "      <td>   5.285532</td>\n",
       "      <td>  19.316486</td>\n",
       "      <td>   0.534591</td>\n",
       "      <td>   8.609198</td>\n",
       "      <td>   0.016273</td>\n",
       "    </tr>\n",
       "    <tr>\n",
       "      <th>min</th>\n",
       "      <td>  16.000000</td>\n",
       "      <td>  -3.870000</td>\n",
       "      <td> -10.420000</td>\n",
       "      <td>   0.018000</td>\n",
       "      <td>   2.667000</td>\n",
       "      <td>   0.255000</td>\n",
       "      <td>   0.000000</td>\n",
       "      <td>  15.385000</td>\n",
       "      <td>   0.735000</td>\n",
       "      <td>   0.000000</td>\n",
       "      <td>   0.769000</td>\n",
       "      <td>   0.000000</td>\n",
       "      <td>   0.000000</td>\n",
       "    </tr>\n",
       "    <tr>\n",
       "      <th>25%</th>\n",
       "      <td>  62.500000</td>\n",
       "      <td>   0.762500</td>\n",
       "      <td>  -3.497500</td>\n",
       "      <td>   0.092750</td>\n",
       "      <td>   6.604500</td>\n",
       "      <td>   0.725250</td>\n",
       "      <td>   0.190500</td>\n",
       "      <td>  34.515750</td>\n",
       "      <td>   4.236750</td>\n",
       "      <td>  10.557250</td>\n",
       "      <td>   1.482500</td>\n",
       "      <td>   3.156000</td>\n",
       "      <td>   0.001488</td>\n",
       "    </tr>\n",
       "    <tr>\n",
       "      <th>50%</th>\n",
       "      <td>  89.000000</td>\n",
       "      <td>   1.910000</td>\n",
       "      <td>  -1.715000</td>\n",
       "      <td>   0.153000</td>\n",
       "      <td>  15.529000</td>\n",
       "      <td>   0.926500</td>\n",
       "      <td>   0.520500</td>\n",
       "      <td>  51.060000</td>\n",
       "      <td>   7.435000</td>\n",
       "      <td>  33.030000</td>\n",
       "      <td>   1.879500</td>\n",
       "      <td>  12.681000</td>\n",
       "      <td>   0.004178</td>\n",
       "    </tr>\n",
       "    <tr>\n",
       "      <th>75%</th>\n",
       "      <td> 123.000000</td>\n",
       "      <td>   3.170000</td>\n",
       "      <td>   0.120000</td>\n",
       "      <td>   0.237000</td>\n",
       "      <td>  20.652000</td>\n",
       "      <td>   1.441750</td>\n",
       "      <td>   0.675250</td>\n",
       "      <td>  78.277500</td>\n",
       "      <td>  11.498750</td>\n",
       "      <td>  45.857250</td>\n",
       "      <td>   2.455750</td>\n",
       "      <td>  18.582250</td>\n",
       "      <td>   0.010334</td>\n",
       "    </tr>\n",
       "    <tr>\n",
       "      <th>max</th>\n",
       "      <td> 307.000000</td>\n",
       "      <td>   5.430000</td>\n",
       "      <td>   5.730000</td>\n",
       "      <td>   0.495000</td>\n",
       "      <td>  36.733000</td>\n",
       "      <td>   1.913000</td>\n",
       "      <td>   1.065000</td>\n",
       "      <td>  97.778000</td>\n",
       "      <td>  24.306000</td>\n",
       "      <td>  72.308000</td>\n",
       "      <td>   2.873000</td>\n",
       "      <td>  34.894000</td>\n",
       "      <td>   0.117188</td>\n",
       "    </tr>\n",
       "  </tbody>\n",
       "</table>\n",
       "<p>8 rows × 13 columns</p>\n",
       "</div>"
      ],
      "text/plain": [
       "           length      log kf      log ku         rco         aco         sro  \\\n",
       "count  102.000000  102.000000  102.000000  102.000000  102.000000  102.000000   \n",
       "mean    98.245098    1.968235   -1.505882    0.162206   14.569343    1.032059   \n",
       "std     51.548965    1.893717    2.929280    0.087499    8.306179    0.438993   \n",
       "min     16.000000   -3.870000  -10.420000    0.018000    2.667000    0.255000   \n",
       "25%     62.500000    0.762500   -3.497500    0.092750    6.604500    0.725250   \n",
       "50%     89.000000    1.910000   -1.715000    0.153000   15.529000    0.926500   \n",
       "75%    123.000000    3.170000    0.120000    0.237000   20.652000    1.441750   \n",
       "max    307.000000    5.430000    5.730000    0.495000   36.733000    1.913000   \n",
       "\n",
       "              lro      sr_per      mr_per      lr_per         lco        nlco  \\\n",
       "count  102.000000  102.000000  102.000000  102.000000  102.000000  102.000000   \n",
       "mean     0.461961   55.221000    8.357284   30.029618    1.948353   11.879745   \n",
       "std      0.288140   24.117707    5.285532   19.316486    0.534591    8.609198   \n",
       "min      0.000000   15.385000    0.735000    0.000000    0.769000    0.000000   \n",
       "25%      0.190500   34.515750    4.236750   10.557250    1.482500    3.156000   \n",
       "50%      0.520500   51.060000    7.435000   33.030000    1.879500   12.681000   \n",
       "75%      0.675250   78.277500   11.498750   45.857250    2.455750   18.582250   \n",
       "max      1.065000   97.778000   24.306000   72.308000    2.873000   34.894000   \n",
       "\n",
       "              tcd  \n",
       "count  102.000000  \n",
       "mean     0.009931  \n",
       "std      0.016273  \n",
       "min      0.000000  \n",
       "25%      0.001488  \n",
       "50%      0.004178  \n",
       "75%      0.010334  \n",
       "max      0.117188  \n",
       "\n",
       "[8 rows x 13 columns]"
      ]
     },
     "execution_count": 6,
     "metadata": {},
     "output_type": "execute_result"
    }
   ],
   "source": [
    "BrDf_6A.describe()"
   ]
  },
  {
   "cell_type": "code",
   "execution_count": 7,
   "metadata": {
    "collapsed": false
   },
   "outputs": [],
   "source": [
    "# Import the necessary libraries\n",
    "#from __future__ import division, print_function\n",
    "import numpy as np\n",
    "import matplotlib.pyplot as plt\n",
    "%matplotlib inline\n",
    "import scipy.stats as stats\n",
    "from scipy.stats import pearsonr"
   ]
  },
  {
   "cell_type": "code",
   "execution_count": 8,
   "metadata": {
    "collapsed": false
   },
   "outputs": [],
   "source": [
    "def findCorr(p1,p2,offset):\n",
    "    \"\"\"\n",
    "    p1,p2 are the two indipendent variables in the data frame.\n",
    "    \"\"\"\n",
    "    # data from Brioom etal paper,2015\n",
    "    # 6A cutoff\n",
    "    p1_br6 = BrDf_6A[p1]\n",
    "    p2_br6 = BrDf_6A[p2]#['log kf']\n",
    "    \n",
    "    # Fitting line and fingding correlation\n",
    "    fitParameters_bf6 = np.polyfit(p1_br6,p2_br6,1)\n",
    "    yfit_bf6 = np.polyval(fitParameters_bf6,p1_br6)\n",
    "\n",
    "    (R_br6,P_br6) = pearsonr(p1_br6,p2_br6)\n",
    "    \n",
    "    # 8 A cutoff\n",
    "    p1_br = BrDf[p1]\n",
    "    p2_br = BrDf[p2]\n",
    "    # Fitting line and fingding p2]#['log kf']\n",
    "    #correlation\n",
    "    fitParameters_bf = np.polyfit(p1_br,p2_br,1)\n",
    "    yfit_bf = np.polyval(fitParameters_bf,p1_br)\n",
    "\n",
    "    (R_br,P_br) = pearsonr(p1_br,p2_br)\n",
    "\n",
    "    plt.figure(figsize=(10,3))\n",
    "    \n",
    "    ax1 = plt.subplot(121)\n",
    "    ax1.plot(BrDf_6A[BrDf_6A[\"class\"]==\"a\"][p1],BrDf_6A[BrDf_6A[\"class\"]==\"a\"][p2],'bo')\n",
    "    ax1.plot(BrDf_6A[BrDf_6A[\"class\"]==\"b\"][p1],BrDf_6A[BrDf_6A[\"class\"]==\"b\"][p2],'go')\n",
    "    ax1.plot(BrDf_6A[BrDf_6A[\"class\"]==\"ab\"][p1],BrDf_6A[BrDf_6A[\"class\"]==\"ab\"][p2],'ks')\n",
    "    \n",
    "    ax1.plot(p1_br6,yfit_bf6,'r-')\n",
    "\n",
    "    ax1.set_xlabel(p1)\n",
    "    ax1.set_ylabel(p2)\n",
    "    ax1.set_title(\"Alpha: Blue, Beta: Green, A/B:Black\\n(dc = 6A)\")#%len(p1_br6))\n",
    "    ax1.text(offset[0],offset[1],\"%s= %0.3f+%0.3f*%s\"%(p2,fitParameters_bf[1],fitParameters_bf[0],p1))\n",
    "    ax1.text(offset[0],offset[1]-1,\"R2=%0.3f\"%(R_br6))\n",
    "\n",
    "    \n",
    "    ax2 = plt.subplot(122)\n",
    "    ax2.plot(BrDf[BrDf[\"class\"]==\"a\"][p1],BrDf[BrDf[\"class\"]==\"a\"][p2],'bo')\n",
    "    ax2.plot(BrDf[BrDf[\"class\"]==\"b\"][p1],BrDf[BrDf[\"class\"]==\"b\"][p2],'go')\n",
    "    ax2.plot(BrDf[BrDf[\"class\"]==\"ab\"][p1],BrDf[BrDf[\"class\"]==\"ab\"][p2],'ks')\n",
    "    \n",
    "    ax2.plot(p1_br,yfit_bf,'r-')\n",
    "\n",
    "    ax2.set_xlabel(p1)\n",
    "    ax2.set_ylabel(p2)\n",
    "    ax2.set_title(\"Alpha: Blue, Beta: Green, A/B:Black\\n(dc= 8A)\")#%len(p1_br))\n",
    "    ax2.text(offset[0],offset[1],\"%s= %0.3f+%0.3f*%s\"%(p2,fitParameters_bf[1],fitParameters_bf[0],p1))\n",
    "    ax2.text(offset[0],offset[1]-1,\"R2=%0.3f\"%(R_br))\n",
    "\n",
    "    plt.show()\n",
    "    return ((R_br6,P_br6),(R_br,P_br))\n"
   ]
  },
  {
   "cell_type": "code",
   "execution_count": 9,
   "metadata": {
    "collapsed": false
   },
   "outputs": [
    {
     "ename": "TypeError",
     "evalue": "not all arguments converted during string formatting",
     "output_type": "error",
     "traceback": [
      "\u001b[1;31m---------------------------------------------------------------------------\u001b[0m",
      "\u001b[1;31mTypeError\u001b[0m                                 Traceback (most recent call last)",
      "\u001b[1;32m<ipython-input-9-932efdb18cd2>\u001b[0m in \u001b[0;36m<module>\u001b[1;34m()\u001b[0m\n\u001b[1;32m----> 1\u001b[1;33m \u001b[0mpcorr_kfu\u001b[0m \u001b[1;33m=\u001b[0m \u001b[0mfindCorr\u001b[0m\u001b[1;33m(\u001b[0m\u001b[1;34m'log kf'\u001b[0m\u001b[1;33m,\u001b[0m\u001b[1;34m'log ku'\u001b[0m\u001b[1;33m,\u001b[0m\u001b[1;33m[\u001b[0m\u001b[1;33m-\u001b[0m\u001b[1;36m2\u001b[0m\u001b[1;33m,\u001b[0m\u001b[1;36m4\u001b[0m\u001b[1;33m]\u001b[0m\u001b[1;33m)\u001b[0m\u001b[1;33m\u001b[0m\u001b[0m\n\u001b[0m",
      "\u001b[1;32m<ipython-input-8-4404eeeabaeb>\u001b[0m in \u001b[0;36mfindCorr\u001b[1;34m(p1, p2, offset)\u001b[0m\n\u001b[0;32m     35\u001b[0m     \u001b[0max1\u001b[0m\u001b[1;33m.\u001b[0m\u001b[0mset_xlabel\u001b[0m\u001b[1;33m(\u001b[0m\u001b[0mp1\u001b[0m\u001b[1;33m)\u001b[0m\u001b[1;33m\u001b[0m\u001b[0m\n\u001b[0;32m     36\u001b[0m     \u001b[0max1\u001b[0m\u001b[1;33m.\u001b[0m\u001b[0mset_ylabel\u001b[0m\u001b[1;33m(\u001b[0m\u001b[0mp2\u001b[0m\u001b[1;33m)\u001b[0m\u001b[1;33m\u001b[0m\u001b[0m\n\u001b[1;32m---> 37\u001b[1;33m     \u001b[0max1\u001b[0m\u001b[1;33m.\u001b[0m\u001b[0mset_title\u001b[0m\u001b[1;33m(\u001b[0m\u001b[1;34m\"Alpha: Blue, Beta: Green, A/B:Black\\n(dc = 6A)\"\u001b[0m\u001b[1;33m%\u001b[0m\u001b[0mlen\u001b[0m\u001b[1;33m(\u001b[0m\u001b[0mp1_br6\u001b[0m\u001b[1;33m)\u001b[0m\u001b[1;33m)\u001b[0m\u001b[1;33m\u001b[0m\u001b[0m\n\u001b[0m\u001b[0;32m     38\u001b[0m     \u001b[0max1\u001b[0m\u001b[1;33m.\u001b[0m\u001b[0mtext\u001b[0m\u001b[1;33m(\u001b[0m\u001b[0moffset\u001b[0m\u001b[1;33m[\u001b[0m\u001b[1;36m0\u001b[0m\u001b[1;33m]\u001b[0m\u001b[1;33m,\u001b[0m\u001b[0moffset\u001b[0m\u001b[1;33m[\u001b[0m\u001b[1;36m1\u001b[0m\u001b[1;33m]\u001b[0m\u001b[1;33m,\u001b[0m\u001b[1;34m\"%s= %0.3f+%0.3f*%s\"\u001b[0m\u001b[1;33m%\u001b[0m\u001b[1;33m(\u001b[0m\u001b[0mp2\u001b[0m\u001b[1;33m,\u001b[0m\u001b[0mfitParameters_bf\u001b[0m\u001b[1;33m[\u001b[0m\u001b[1;36m1\u001b[0m\u001b[1;33m]\u001b[0m\u001b[1;33m,\u001b[0m\u001b[0mfitParameters_bf\u001b[0m\u001b[1;33m[\u001b[0m\u001b[1;36m0\u001b[0m\u001b[1;33m]\u001b[0m\u001b[1;33m,\u001b[0m\u001b[0mp1\u001b[0m\u001b[1;33m)\u001b[0m\u001b[1;33m)\u001b[0m\u001b[1;33m\u001b[0m\u001b[0m\n\u001b[0;32m     39\u001b[0m     \u001b[0max1\u001b[0m\u001b[1;33m.\u001b[0m\u001b[0mtext\u001b[0m\u001b[1;33m(\u001b[0m\u001b[0moffset\u001b[0m\u001b[1;33m[\u001b[0m\u001b[1;36m0\u001b[0m\u001b[1;33m]\u001b[0m\u001b[1;33m,\u001b[0m\u001b[0moffset\u001b[0m\u001b[1;33m[\u001b[0m\u001b[1;36m1\u001b[0m\u001b[1;33m]\u001b[0m\u001b[1;33m-\u001b[0m\u001b[1;36m1\u001b[0m\u001b[1;33m,\u001b[0m\u001b[1;34m\"R2=%0.3f\"\u001b[0m\u001b[1;33m%\u001b[0m\u001b[1;33m(\u001b[0m\u001b[0mR_br6\u001b[0m\u001b[1;33m)\u001b[0m\u001b[1;33m)\u001b[0m\u001b[1;33m\u001b[0m\u001b[0m\n",
      "\u001b[1;31mTypeError\u001b[0m: not all arguments converted during string formatting"
     ]
    },
    {
     "data": {
      "image/png": "[encoded data removed]",
      "text/plain": [
       "<matplotlib.figure.Figure at 0x7f2ec373ded0>"
      ]
     },
     "metadata": {},
     "output_type": "display_data"
    }
   ],
   "source": [
    "pcorr_kfu = findCorr('log kf','log ku',[-2,4])"
   ]
  },
  {
   "cell_type": "code",
   "execution_count": 31,
   "metadata": {
    "collapsed": false
   },
   "outputs": [
    {
     "data": {
      "image/png": "[encoded data removed]",
      "text/plain": [
       "<matplotlib.figure.Figure at 0x7faa938f8e90>"
      ]
     },
     "metadata": {},
     "output_type": "display_data"
    },
    {
     "data": {
      "image/png": "[encoded data removed]",
      "text/plain": [
       "<matplotlib.figure.Figure at 0x7faa93adb750>"
      ]
     },
     "metadata": {},
     "output_type": "display_data"
    },
    {
     "data": {
      "image/png": "[encoded data removed]",
      "text/plain": [
       "<matplotlib.figure.Figure at 0x7faa9371f650>"
      ]
     },
     "metadata": {},
     "output_type": "display_data"
    },
    {
     "data": {
      "image/png": "[encoded data removed]",
      "text/plain": [
       "<matplotlib.figure.Figure at 0x7faa93b7bfd0>"
      ]
     },
     "metadata": {},
     "output_type": "display_data"
    }
   ],
   "source": [
    "\n",
    "pcorr_acoKu = findCorr('aco','log ku',[18,4])\n",
    "pcorr_acoKu = findCorr('aco','log kf',[20,5])\n",
    "\n",
    "pcorr_lroKu = findCorr('lro','log ku',[0.2,-8])\n",
    "pcorr_lroKf = findCorr('lro','log kf',[0.2,-2])"
   ]
  },
  {
   "cell_type": "code",
   "execution_count": 10,
   "metadata": {
    "collapsed": false
   },
   "outputs": [
    {
     "data": {
      "image/png": "[encoded data removed]",
      "text/plain": [
       "<matplotlib.figure.Figure at 0x7faa93b5a450>"
      ]
     },
     "metadata": {},
     "output_type": "display_data"
    },
    {
     "data": {
      "image/png": "[encoded data removed]",
      "text/plain": [
       "<matplotlib.figure.Figure at 0x7faa937a0e50>"
      ]
     },
     "metadata": {},
     "output_type": "display_data"
    }
   ],
   "source": [
    "pcorr_lroKu = findCorr('nlco','log ku',[0.2,-8])\n",
    "pcorr_lroKf = findCorr('nlco','log kf',[0.2,-2])"
   ]
  },
  {
   "cell_type": "code",
   "execution_count": 11,
   "metadata": {
    "collapsed": false
   },
   "outputs": [
    {
     "data": {
      "text/plain": [
       "(array([-0.16880688,  4.28625827]),\n",
       " -0.73465565877564254,\n",
       " 1.5218300163524122e-18)"
      ]
     },
     "execution_count": 11,
     "metadata": {},
     "output_type": "execute_result"
    }
   ],
   "source": [
    "def parametersCorr(p1,p2,df):\n",
    "    p1v = df[p1]\n",
    "    p2v = df[p2]#['log kf']\n",
    "    \n",
    "    # Fitting line and fingding correlation\n",
    "    fitParam = np.polyfit(p1v,p2v,1)\n",
    "    #yfit_bf6 = np.polyval(fitParameters_bf6,p1_br6)\n",
    "    R,P = pearsonr(p1v,p2v)\n",
    "    return (fitParam,R,P)\n",
    "\n",
    "parametersCorr('nlco','log kf',BrDf)\n",
    "    "
   ]
  },
  {
   "cell_type": "code",
   "execution_count": 12,
   "metadata": {
    "collapsed": false
   },
   "outputs": [
    {
     "data": {
      "text/html": [
       "<div style=\"max-height:1000px;max-width:1500px;overflow:auto;\">\n",
       "<table border=\"1\" class=\"dataframe\">\n",
       "  <thead>\n",
       "    <tr style=\"text-align: right;\">\n",
       "      <th></th>\n",
       "      <th>pid</th>\n",
       "      <th>ktype</th>\n",
       "      <th>class</th>\n",
       "      <th>length</th>\n",
       "      <th>log kf</th>\n",
       "      <th>log ku</th>\n",
       "      <th>rco</th>\n",
       "      <th>aco</th>\n",
       "      <th>sro</th>\n",
       "      <th>lro</th>\n",
       "      <th>sr_per</th>\n",
       "      <th>mr_per</th>\n",
       "      <th>lr_per</th>\n",
       "      <th>lco</th>\n",
       "      <th>nlco</th>\n",
       "      <th>tcd</th>\n",
       "    </tr>\n",
       "    <tr>\n",
       "      <th>class</th>\n",
       "      <th></th>\n",
       "      <th></th>\n",
       "      <th></th>\n",
       "      <th></th>\n",
       "      <th></th>\n",
       "      <th></th>\n",
       "      <th></th>\n",
       "      <th></th>\n",
       "      <th></th>\n",
       "      <th></th>\n",
       "      <th></th>\n",
       "      <th></th>\n",
       "      <th></th>\n",
       "      <th></th>\n",
       "      <th></th>\n",
       "      <th></th>\n",
       "    </tr>\n",
       "  </thead>\n",
       "  <tbody>\n",
       "    <tr>\n",
       "      <th>a</th>\n",
       "      <td> 30</td>\n",
       "      <td> 30</td>\n",
       "      <td> 30</td>\n",
       "      <td> 30</td>\n",
       "      <td> 30</td>\n",
       "      <td> 30</td>\n",
       "      <td> 30</td>\n",
       "      <td> 30</td>\n",
       "      <td> 30</td>\n",
       "      <td> 30</td>\n",
       "      <td> 30</td>\n",
       "      <td> 30</td>\n",
       "      <td> 30</td>\n",
       "      <td> 30</td>\n",
       "      <td> 30</td>\n",
       "      <td> 30</td>\n",
       "    </tr>\n",
       "    <tr>\n",
       "      <th>ab</th>\n",
       "      <td> 40</td>\n",
       "      <td> 40</td>\n",
       "      <td> 40</td>\n",
       "      <td> 40</td>\n",
       "      <td> 40</td>\n",
       "      <td> 40</td>\n",
       "      <td> 40</td>\n",
       "      <td> 40</td>\n",
       "      <td> 40</td>\n",
       "      <td> 40</td>\n",
       "      <td> 40</td>\n",
       "      <td> 40</td>\n",
       "      <td> 40</td>\n",
       "      <td> 40</td>\n",
       "      <td> 40</td>\n",
       "      <td> 40</td>\n",
       "    </tr>\n",
       "    <tr>\n",
       "      <th>b</th>\n",
       "      <td> 32</td>\n",
       "      <td> 32</td>\n",
       "      <td> 32</td>\n",
       "      <td> 32</td>\n",
       "      <td> 32</td>\n",
       "      <td> 32</td>\n",
       "      <td> 32</td>\n",
       "      <td> 32</td>\n",
       "      <td> 32</td>\n",
       "      <td> 32</td>\n",
       "      <td> 32</td>\n",
       "      <td> 32</td>\n",
       "      <td> 32</td>\n",
       "      <td> 32</td>\n",
       "      <td> 32</td>\n",
       "      <td> 32</td>\n",
       "    </tr>\n",
       "  </tbody>\n",
       "</table>\n",
       "<p>3 rows × 16 columns</p>\n",
       "</div>"
      ],
      "text/plain": [
       "       pid  ktype  class  length  log kf  log ku  rco  aco  sro  lro  sr_per  \\\n",
       "class                                                                          \n",
       "a       30     30     30      30      30      30   30   30   30   30      30   \n",
       "ab      40     40     40      40      40      40   40   40   40   40      40   \n",
       "b       32     32     32      32      32      32   32   32   32   32      32   \n",
       "\n",
       "       mr_per  lr_per  lco  nlco  tcd  \n",
       "class                                  \n",
       "a          30      30   30    30   30  \n",
       "ab         40      40   40    40   40  \n",
       "b          32      32   32    32   32  \n",
       "\n",
       "[3 rows x 16 columns]"
      ]
     },
     "execution_count": 12,
     "metadata": {},
     "output_type": "execute_result"
    }
   ],
   "source": [
    "BrDf.groupby(BrDf[\"class\"]).count()"
   ]
  },
  {
   "cell_type": "code",
   "execution_count": 19,
   "metadata": {
    "collapsed": false
   },
   "outputs": [
    {
     "data": {
      "text/html": [
       "<div style=\"max-height:1000px;max-width:1500px;overflow:auto;\">\n",
       "<table border=\"1\" class=\"dataframe\">\n",
       "  <thead>\n",
       "    <tr style=\"text-align: right;\">\n",
       "      <th></th>\n",
       "      <th>length</th>\n",
       "      <th>log kf</th>\n",
       "      <th>log ku</th>\n",
       "      <th>rco</th>\n",
       "      <th>aco</th>\n",
       "      <th>sro</th>\n",
       "      <th>lro</th>\n",
       "      <th>sr_per</th>\n",
       "      <th>mr_per</th>\n",
       "      <th>lr_per</th>\n",
       "      <th>lco</th>\n",
       "      <th>nlco</th>\n",
       "      <th>tcd</th>\n",
       "    </tr>\n",
       "    <tr>\n",
       "      <th>ktype</th>\n",
       "      <th></th>\n",
       "      <th></th>\n",
       "      <th></th>\n",
       "      <th></th>\n",
       "      <th></th>\n",
       "      <th></th>\n",
       "      <th></th>\n",
       "      <th></th>\n",
       "      <th></th>\n",
       "      <th></th>\n",
       "      <th></th>\n",
       "      <th></th>\n",
       "      <th></th>\n",
       "    </tr>\n",
       "  </thead>\n",
       "  <tbody>\n",
       "    <tr>\n",
       "      <th>Multi</th>\n",
       "      <td> 55.338678</td>\n",
       "      <td> 1.412072</td>\n",
       "      <td> 2.329237</td>\n",
       "      <td> 0.050761</td>\n",
       "      <td> 7.865128</td>\n",
       "      <td> 0.191025</td>\n",
       "      <td> 0.362337</td>\n",
       "      <td> 7.085936</td>\n",
       "      <td> 1.950943</td>\n",
       "      <td> 7.175919</td>\n",
       "      <td> 0.234066</td>\n",
       "      <td> 8.060973</td>\n",
       "      <td> 0.004722</td>\n",
       "    </tr>\n",
       "    <tr>\n",
       "      <th>Two</th>\n",
       "      <td> 32.325589</td>\n",
       "      <td> 1.340706</td>\n",
       "      <td> 1.679114</td>\n",
       "      <td> 0.043170</td>\n",
       "      <td> 6.068538</td>\n",
       "      <td> 0.153786</td>\n",
       "      <td> 0.380766</td>\n",
       "      <td> 5.654747</td>\n",
       "      <td> 2.136401</td>\n",
       "      <td> 7.471018</td>\n",
       "      <td> 0.240444</td>\n",
       "      <td> 6.207413</td>\n",
       "      <td> 0.009991</td>\n",
       "    </tr>\n",
       "  </tbody>\n",
       "</table>\n",
       "<p>2 rows × 13 columns</p>\n",
       "</div>"
      ],
      "text/plain": [
       "          length    log kf    log ku       rco       aco       sro       lro  \\\n",
       "ktype                                                                          \n",
       "Multi  55.338678  1.412072  2.329237  0.050761  7.865128  0.191025  0.362337   \n",
       "Two    32.325589  1.340706  1.679114  0.043170  6.068538  0.153786  0.380766   \n",
       "\n",
       "         sr_per    mr_per    lr_per       lco      nlco       tcd  \n",
       "ktype                                                              \n",
       "Multi  7.085936  1.950943  7.175919  0.234066  8.060973  0.004722  \n",
       "Two    5.654747  2.136401  7.471018  0.240444  6.207413  0.009991  \n",
       "\n",
       "[2 rows x 13 columns]"
      ]
     },
     "execution_count": 19,
     "metadata": {},
     "output_type": "execute_result"
    }
   ],
   "source": [
    "BrDf[BrDf[\"class\"]==\"ab\"].groupby(BrDf[\"ktype\"]).std()"
   ]
  },
  {
   "cell_type": "code",
   "execution_count": 18,
   "metadata": {
    "collapsed": false
   },
   "outputs": [
    {
     "name": "stdout",
     "output_type": "stream",
     "text": [
      "Alpha Protein Two state Kinetics (21)\n",
      "aco\tlog kf\t5.140\t-0.133\t-0.693\t0.000490\n",
      "lro\tlog kf\t4.862\t-1.775\t-0.523\t0.014876\n",
      "nlco\tlog kf\t4.741\t-0.131\t-0.689\t0.000546\n",
      "rco\tlog kf\t2.442\t11.068\t0.341\t0.130101\n",
      "sro\tlog kf\t8.818\t-1.939\t-0.318\t0.160612\n",
      "lco\tlog kf\t-1.347\t2.059\t0.450\t0.040538\n",
      "\n",
      "\n",
      "aco\tlog ku\t3.500\t-0.257\t-0.679\t0.000719\n",
      "lro\tlog ku\t3.228\t-3.934\t-0.585\t0.005349\n",
      "nlco\tlog ku\t2.774\t-0.261\t-0.695\t0.000474\n",
      "rco\tlog ku\t-2.888\t30.255\t0.470\t0.031519\n",
      "sro\tlog ku\t16.470\t-6.062\t-0.500\t0.020891\n",
      "lco\tlog ku\t-10.353\t4.493\t0.495\t0.022500\n",
      "\n",
      "\n",
      "Alpha Protein Multi state Kinetics (9)\n",
      "aco\tlog kf\t4.207\t-0.174\t-0.378\t0.316381\n",
      "lro\tlog kf\t4.087\t-1.983\t-0.614\t0.078867\n",
      "nlco\tlog kf\t3.682\t-0.169\t-0.377\t0.317824\n",
      "rco\tlog kf\t0.966\t14.576\t0.467\t0.204539\n",
      "sro\tlog kf\t20.831\t-6.905\t-0.715\t0.030288\n",
      "lco\tlog kf\t-2.392\t2.027\t0.343\t0.366070\n",
      "\n",
      "\n",
      "aco\tlog ku\t0.532\t-0.101\t-0.090\t0.818480\n",
      "lro\tlog ku\t0.354\t-1.025\t-0.129\t0.740902\n",
      "nlco\tlog ku\t0.087\t-0.079\t-0.072\t0.854493\n",
      "rco\tlog ku\t-5.325\t46.548\t0.607\t0.082957\n",
      "sro\tlog ku\t37.560\t-14.316\t-0.603\t0.085559\n",
      "lco\tlog ku\t1.472\t-0.808\t-0.056\t0.886932\n",
      "\n",
      "\n"
     ]
    }
   ],
   "source": [
    "def parametersCorr(p1,p2,df):\n",
    "    p1v = df[p1]\n",
    "    p2v = df[p2]#['log kf']\n",
    "    fitParam = np.polyfit(p1v,p2v,1)\n",
    "    R,P = pearsonr(p1v,p2v)\n",
    "    return (fitParam,R,P)\n",
    "\n",
    "y = ['log kf','log ku']\n",
    "x = ['aco','lro','nlco','rco','sro','lco']\n",
    "clas = [\"a\",\"b\",\"ab\"]\n",
    "ktype = [\"Multi\",\"Two\"]\n",
    "#alpha class\n",
    "print \"Alpha Protein Two state Kinetics (21)\"\n",
    "AlpCls_two = BrDf[(BrDf[\"class\"] == \"a\") & (BrDf[\"ktype\"] == \"Two\")]\n",
    "for j in y:\n",
    "    for i in x:\n",
    "        fitP,r,p = parametersCorr(i,j,AlpCls_two)\n",
    "        print \"%s\\t%s\\t%0.3f\\t%0.3f\\t%0.3f\\t%f\"%(i,j,fitP[1],fitP[0],r,p)        \n",
    "        #print j,i\n",
    "    print \"\\n\"\n",
    "\n",
    "print \"Alpha Protein Multi state Kinetics (9)\"\n",
    "AlpCls_two = BrDf[(BrDf[\"class\"] == \"a\") & (BrDf[\"ktype\"] == \"Multi\")]\n",
    "for j in y:\n",
    "    for i in x:\n",
    "        fitP,r,p = parametersCorr(i,j,AlpCls_two)\n",
    "        print \"%s\\t%s\\t%0.3f\\t%0.3f\\t%0.3f\\t%f\"%(i,j,fitP[1],fitP[0],r,p)        \n",
    "        #print j,i\n",
    "    print \"\\n\""
   ]
  },
  {
   "cell_type": "code",
   "execution_count": 20,
   "metadata": {
    "collapsed": false
   },
   "outputs": [
    {
     "name": "stdout",
     "output_type": "stream",
     "text": [
      "Beta Protein Two state Kinetics (26)\n",
      "aco\tlog kf\t5.992\t-0.271\t-0.839\t0.000000\n",
      "lro\tlog kf\t5.332\t-2.617\t-0.744\t0.000013\n",
      "nlco\tlog kf\t5.053\t-0.260\t-0.853\t0.000000\n",
      "rco\tlog kf\t0.466\t5.397\t0.159\t0.437602\n",
      "sro\tlog kf\t-1.323\t1.781\t0.216\t0.288815\n",
      "lco\tlog kf\t-4.073\t3.439\t0.694\t0.000083\n",
      "\n",
      "\n",
      "aco\tlog ku\t5.453\t-0.427\t-0.813\t0.000000\n",
      "lro\tlog ku\t3.965\t-3.811\t-0.666\t0.000203\n",
      "nlco\tlog ku\t3.721\t-0.392\t-0.789\t0.000002\n",
      "rco\tlog ku\t-6.198\t21.629\t0.392\t0.047692\n",
      "sro\tlog ku\t-1.579\t0.128\t0.010\t0.963216\n",
      "lco\tlog ku\t-8.580\t4.320\t0.536\t0.004755\n",
      "\n",
      "\n",
      "Beta Protein Multi state Kinetics (6)\n",
      "aco\tlog kf\t3.888\t-0.132\t-0.579\t0.228785\n",
      "lro\tlog kf\t0.447\t0.460\t0.145\t0.783748\n",
      "nlco\tlog kf\t2.918\t-0.097\t-0.428\t0.396831\n",
      "rco\tlog kf\t0.456\t4.135\t0.249\t0.634251\n",
      "sro\tlog kf\t5.980\t-2.698\t-0.856\t0.029497\n",
      "lco\tlog kf\t5.373\t-2.737\t-0.881\t0.020486\n",
      "\n",
      "\n",
      "aco\tlog ku\t-0.760\t-0.111\t-0.450\t0.370925\n",
      "lro\tlog ku\t-0.792\t-1.377\t-0.402\t0.429797\n",
      "nlco\tlog ku\t-0.868\t-0.122\t-0.495\t0.318018\n",
      "rco\tlog ku\t-1.369\t-9.297\t-0.517\t0.293542\n",
      "sro\tlog ku\t-6.280\t1.834\t0.538\t0.271312\n",
      "lco\tlog ku\t-4.230\t0.788\t0.234\t0.655033\n",
      "\n",
      "\n"
     ]
    }
   ],
   "source": [
    "print \"Beta Protein Two state Kinetics (26)\"\n",
    "BetaCls_two = BrDf[(BrDf[\"class\"] == \"b\") & (BrDf[\"ktype\"] == \"Two\")]\n",
    "\n",
    "for j in y:\n",
    "    for i in x:\n",
    "        fitP,r,p = parametersCorr(i,j,BetaCls_two)\n",
    "        print \"%s\\t%s\\t%0.3f\\t%0.3f\\t%0.3f\\t%f\"%(i,j,fitP[1],fitP[0],r,p)        \n",
    "        #print j,i\n",
    "    print \"\\n\"\n",
    "\n",
    "print \"Beta Protein Multi state Kinetics (6)\"\n",
    "BetaCls_two = BrDf[(BrDf[\"class\"] == \"b\") & (BrDf[\"ktype\"] == \"Multi\")]\n",
    "\n",
    "for j in y:\n",
    "    for i in x:\n",
    "        fitP,r,p = parametersCorr(i,j,BetaCls_two)\n",
    "        print \"%s\\t%s\\t%0.3f\\t%0.3f\\t%0.3f\\t%f\"%(i,j,fitP[1],fitP[0],r,p)        \n",
    "        #print j,i\n",
    "    print \"\\n\""
   ]
  },
  {
   "cell_type": "code",
   "execution_count": 21,
   "metadata": {
    "collapsed": false
   },
   "outputs": [
    {
     "name": "stdout",
     "output_type": "stream",
     "text": [
      "Alpha-Beta Protein Two state Kinetics (22)\n",
      "aco\tlog kf\t3.275\t-0.066\t-0.299\t0.177029\n",
      "lro\tlog kf\t6.020\t-2.655\t-0.754\t0.000051\n",
      "nlco\tlog kf\t3.187\t-0.070\t-0.326\t0.138784\n",
      "rco\tlog kf\t4.058\t-9.579\t-0.308\t0.162513\n",
      "sro\tlog kf\t-1.399\t1.719\t0.197\t0.379182\n",
      "lco\tlog kf\t-4.115\t3.581\t0.642\t0.001270\n",
      "\n",
      "\n",
      "aco\tlog ku\t0.945\t-0.175\t-0.632\t0.001586\n",
      "lro\tlog ku\t1.778\t-2.799\t-0.635\t0.001505\n",
      "nlco\tlog ku\t0.499\t-0.174\t-0.644\t0.001217\n",
      "rco\tlog ku\t-2.091\t-1.780\t-0.046\t0.839742\n",
      "sro\tlog ku\t-15.748\t6.740\t0.617\t0.002210\n",
      "lco\tlog ku\t-10.308\t4.597\t0.658\t0.000865\n",
      "\n",
      "\n",
      "Alpha-Beta Protein Multi state Kinetics (18)\n",
      "aco\tlog kf\t2.507\t-0.101\t-0.564\t0.014802\n",
      "lro\tlog kf\t2.812\t-1.674\t-0.429\t0.075299\n",
      "nlco\tlog kf\t2.267\t-0.101\t-0.576\t0.012314\n",
      "rco\tlog kf\t-0.875\t6.155\t0.221\t0.377615\n",
      "sro\tlog kf\t0.233\t-0.051\t-0.007\t0.978348\n",
      "lco\tlog kf\t-3.631\t2.185\t0.362\t0.139611\n",
      "\n",
      "\n",
      "aco\tlog ku\t0.797\t-0.185\t-0.625\t0.005526\n",
      "lro\tlog ku\t-0.105\t-2.151\t-0.335\t0.174715\n",
      "nlco\tlog ku\t0.305\t-0.182\t-0.630\t0.005039\n",
      "rco\tlog ku\t-4.680\t6.902\t0.150\t0.551321\n",
      "sro\tlog ku\t-8.406\t2.341\t0.192\t0.445389\n",
      "lco\tlog ku\t-9.307\t3.344\t0.336\t0.172700\n",
      "\n",
      "\n"
     ]
    }
   ],
   "source": [
    "print \"Alpha-Beta Protein Two state Kinetics (22)\"\n",
    "ABCls_two = BrDf[(BrDf[\"class\"] == \"ab\") & (BrDf[\"ktype\"] == \"Two\")]\n",
    "\n",
    "for j in y:\n",
    "    for i in x:\n",
    "        fitP,r,p = parametersCorr(i,j,ABCls_two)\n",
    "        print \"%s\\t%s\\t%0.3f\\t%0.3f\\t%0.3f\\t%f\"%(i,j,fitP[1],fitP[0],r,p)        \n",
    "        #print j,i\n",
    "    print \"\\n\"\n",
    "\n",
    "print \"Alpha-Beta Protein Multi state Kinetics (18)\"\n",
    "ABCls_two = BrDf[(BrDf[\"class\"] == \"ab\") & (BrDf[\"ktype\"] == \"Multi\")]\n",
    "\n",
    "for j in y:\n",
    "    for i in x:\n",
    "        fitP,r,p = parametersCorr(i,j,ABCls_two)\n",
    "        print \"%s\\t%s\\t%0.3f\\t%0.3f\\t%0.3f\\t%f\"%(i,j,fitP[1],fitP[0],r,p)        \n",
    "        #print j,i\n",
    "    print \"\\n\""
   ]
  },
  {
   "cell_type": "code",
   "execution_count": 23,
   "metadata": {
    "collapsed": false
   },
   "outputs": [
    {
     "name": "stdout",
     "output_type": "stream",
     "text": [
      "Alpha proteins (total=30)\n",
      "aco\tlog kf\t4.801\t-0.139\t-0.578\t0.000820\n",
      "lro\tlog kf\t4.831\t-2.178\t-0.605\t0.000401\n",
      "nlco\tlog kf\t4.388\t-0.137\t-0.577\t0.000836\n",
      "rco\tlog kf\t1.522\t15.833\t0.458\t0.010947\n",
      "sro\tlog kf\t11.779\t-3.227\t-0.451\t0.012333\n",
      "lco\tlog kf\t-2.880\t2.537\t0.481\t0.007129\n",
      "\n",
      "\n",
      "aco\tlog ku\t3.046\t-0.254\t-0.548\t0.001722\n",
      "lro\tlog ku\t2.784\t-3.475\t-0.500\t0.004883\n",
      "nlco\tlog ku\t2.327\t-0.257\t-0.559\t0.001316\n",
      "rco\tlog ku\t-3.884\t36.543\t0.548\t0.001726\n",
      "sro\tlog ku\t19.788\t-7.449\t-0.540\t0.002079\n",
      "lco\tlog ku\t-9.711\t4.125\t0.405\t0.026251\n",
      "\n",
      "\n"
     ]
    }
   ],
   "source": [
    "#ALl Classes of protein individually\n",
    "ABCls = BrDf[BrDf[\"class\"] == \"ab\"]\n",
    "BetaCls = BrDf[BrDf[\"class\"] == \"b\"]\n",
    "AlpCls = BrDf[BrDf[\"class\"] == \"a\"]\n",
    "\n",
    "print \"Alpha proteins (total=30)\"\n",
    "for j in y:\n",
    "    for i in x:\n",
    "        fitP,r,p = parametersCorr(i,j,AlpCls)\n",
    "        print \"%s\\t%s\\t%0.3f\\t%0.3f\\t%0.3f\\t%f\"%(i,j,fitP[1],fitP[0],r,p)        \n",
    "        #print j,i\n",
    "    print \"\\n\""
   ]
  },
  {
   "cell_type": "code",
   "execution_count": 25,
   "metadata": {
    "collapsed": false
   },
   "outputs": [
    {
     "name": "stdout",
     "output_type": "stream",
     "text": [
      "Beta Proteins (Total = 32)\n",
      "aco\tlog kf\t5.770\t-0.249\t-0.816\t0.000000\n",
      "lro\tlog kf\t5.183\t-2.500\t-0.720\t0.000003\n",
      "nlco\tlog kf\t4.891\t-0.239\t-0.825\t0.000000\n",
      "rco\tlog kf\t0.341\t5.772\t0.186\t0.308841\n",
      "sro\tlog kf\t0.070\t0.890\t0.117\t0.522511\n",
      "lco\tlog kf\t-3.385\t3.023\t0.627\t0.000122\n",
      "\n",
      "\n",
      "aco\tlog ku\t5.156\t-0.407\t-0.809\t0.000000\n",
      "lro\tlog ku\t3.849\t-3.836\t-0.671\t0.000026\n",
      "nlco\tlog ku\t3.537\t-0.376\t-0.789\t0.000000\n",
      "rco\tlog ku\t-5.990\t20.065\t0.392\t0.026428\n",
      "sro\tlog ku\t-1.621\t-0.033\t-0.003\t0.988674\n",
      "lco\tlog ku\t-8.664\t4.252\t0.536\t0.001570\n",
      "\n",
      "\n"
     ]
    }
   ],
   "source": [
    "print \"Beta Proteins (Total = 32)\"\n",
    "\n",
    "for j in y:\n",
    "    for i in x:\n",
    "        fitP,r,p = parametersCorr(i,j,BetaCls)\n",
    "        print \"%s\\t%s\\t%0.3f\\t%0.3f\\t%0.3f\\t%f\"%(i,j,fitP[1],fitP[0],r,p)        \n",
    "        #print j,i\n",
    "    print \"\\n\""
   ]
  },
  {
   "cell_type": "code",
   "execution_count": 26,
   "metadata": {
    "collapsed": false
   },
   "outputs": [
    {
     "name": "stdout",
     "output_type": "stream",
     "text": [
      "Alpha Beta protein Total = 40\n",
      "aco\tlog kf\t3.629\t-0.116\t-0.503\t0.000944\n",
      "lro\tlog kf\t5.042\t-2.499\t-0.562\t0.000162\n",
      "nlco\tlog kf\t3.369\t-0.117\t-0.520\t0.000582\n",
      "rco\tlog kf\t-0.368\t7.885\t0.256\t0.111378\n",
      "sro\tlog kf\t2.926\t-0.881\t-0.095\t0.560913\n",
      "lco\tlog kf\t-3.692\t2.830\t0.403\t0.009881\n",
      "\n",
      "\n",
      "aco\tlog ku\t1.049\t-0.188\t-0.655\t0.000004\n",
      "lro\tlog ku\t1.181\t-2.660\t-0.482\t0.001646\n",
      "nlco\tlog ku\t0.550\t-0.186\t-0.663\t0.000003\n",
      "rco\tlog ku\t-4.350\t7.220\t0.189\t0.243838\n",
      "sro\tlog ku\t-9.056\t3.024\t0.262\t0.102565\n",
      "lco\tlog ku\t-9.747\t3.966\t0.455\t0.003150\n",
      "\n",
      "\n"
     ]
    }
   ],
   "source": [
    "print \"Alpha Beta protein Total = 40\"\n",
    "\n",
    "for j in y:\n",
    "    for i in x:\n",
    "        fitP,r,p = parametersCorr(i,j,ABCls)\n",
    "        print \"%s\\t%s\\t%0.3f\\t%0.3f\\t%0.3f\\t%f\"%(i,j,fitP[1],fitP[0],r,p)        \n",
    "        #print j,i\n",
    "    print \"\\n\""
   ]
  },
  {
   "cell_type": "code",
   "execution_count": 27,
   "metadata": {
    "collapsed": false
   },
   "outputs": [
    {
     "name": "stdout",
     "output_type": "stream",
     "text": [
      "All proteins (total=102)\n",
      "aco\tlog kf\t4.811\t-0.173\t-0.728\t0.000000\n",
      "lro\tlog kf\t4.994\t-2.428\t-0.752\t0.000000\n",
      "nlco\tlog kf\t4.286\t-0.169\t-0.735\t0.000000\n",
      "rco\tlog kf\t2.489\t-2.905\t-0.097\t0.331749\n",
      "sro\tlog kf\t-1.368\t1.604\t0.339\t0.000487\n",
      "lco\tlog kf\t-3.140\t2.657\t0.668\t0.000000\n",
      "\n",
      "\n",
      "aco\tlog ku\t3.063\t-0.278\t-0.756\t0.000000\n",
      "lro\tlog ku\t2.803\t-3.458\t-0.692\t0.000000\n",
      "nlco\tlog ku\t2.190\t-0.269\t-0.757\t0.000000\n",
      "rco\tlog ku\t-1.545\t0.221\t0.005\t0.962037\n",
      "sro\tlog ku\t-5.695\t2.013\t0.275\t0.005091\n",
      "lco\tlog ku\t-8.731\t3.757\t0.611\t0.000000\n",
      "\n",
      "\n"
     ]
    }
   ],
   "source": [
    "print \"All proteins (total=102)\"\n",
    "for j in y:\n",
    "    for i in x:\n",
    "        fitP,r,p = parametersCorr(i,j,BrDf)\n",
    "        print \"%s\\t%s\\t%0.3f\\t%0.3f\\t%0.3f\\t%f\"%(i,j,fitP[1],fitP[0],r,p)        \n",
    "        #print j,i\n",
    "    print \"\\n\""
   ]
  },
  {
   "cell_type": "code",
   "execution_count": null,
   "metadata": {
    "collapsed": false
   },
   "outputs": [],
   "source": []
  }
 ],
 "metadata": {
  "kernelspec": {
   "display_name": "Python 2",
   "language": "python",
   "name": "python2"
  },
  "language_info": {
   "codemirror_mode": {
    "name": "ipython",
    "version": 2
   },
   "file_extension": ".py",
   "mimetype": "text/x-python",
   "name": "python",
   "nbconvert_exporter": "python",
   "pygments_lexer": "ipython2",
   "version": "2.7.6"
  }
 },
 "nbformat": 4,
 "nbformat_minor": 0
}
