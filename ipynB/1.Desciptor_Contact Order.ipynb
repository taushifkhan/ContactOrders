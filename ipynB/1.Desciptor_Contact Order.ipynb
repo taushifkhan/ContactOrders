{
 "metadata": {
  "name": "",
  "signature": "sha256:eeb820f61e5f547d7d261c3750b6d13cb8d39c1ae58b5edff9acfcdd851e3ef0"
 },
 "nbformat": 3,
 "nbformat_minor": 0,
 "worksheets": [
  {
   "cells": [
    {
     "cell_type": "code",
     "collapsed": false,
     "input": [
      "import MySQLdb as mdb\n",
      "import numpy as Np\n",
      "\n",
      "con = mdb.connect('localhost','root','biokhan','projTop')"
     ],
     "language": "python",
     "metadata": {},
     "outputs": [],
     "prompt_number": 2
    },
    {
     "cell_type": "code",
     "collapsed": false,
     "input": [
      "cur = con.cursor()\n",
      "cur.execute('select pid_chain,residues,contact_order from descriptors_all')\n",
      "desc_protein = Np.array(cur.fetchall())"
     ],
     "language": "python",
     "metadata": {},
     "outputs": [],
     "prompt_number": 4
    },
    {
     "cell_type": "code",
     "collapsed": false,
     "input": [
      "ACO = []\n",
      "for k in range(Np.shape(desc_protein)[0]):\n",
      "    if desc_protein[k,1] and desc_protein[k,2] :\n",
      "        ACO.append(float(desc_protein[k,1])*float(desc_protein[k,2]))"
     ],
     "language": "python",
     "metadata": {},
     "outputs": [],
     "prompt_number": 10
    },
    {
     "cell_type": "code",
     "collapsed": false,
     "input": [
      "len(ACO)"
     ],
     "language": "python",
     "metadata": {},
     "outputs": [
      {
       "metadata": {},
       "output_type": "pyout",
       "prompt_number": 12,
       "text": [
        "8494"
       ]
      }
     ],
     "prompt_number": 12
    },
    {
     "cell_type": "code",
     "collapsed": false,
     "input": [
      "import pandas as pd"
     ],
     "language": "python",
     "metadata": {},
     "outputs": [],
     "prompt_number": 1
    },
    {
     "cell_type": "code",
     "collapsed": false,
     "input": [
      "flkin = open('./kineticDATA_Broom_2015','r').readlines()"
     ],
     "language": "python",
     "metadata": {},
     "outputs": [],
     "prompt_number": 2
    },
    {
     "cell_type": "code",
     "collapsed": false,
     "input": [
      "kinDictionary = {}\n",
      "for k in range(1,len(flkin)-1):\n",
      "    kt = flkin[k].strip().split()\n",
      "    #print len(kt),#[kt[0],kt[1],kt[2],kt[3],kt[4],kt[5]]\n",
      "    ## PDB\\tKinetic\\tClass\\tPDB_length\\tlog kf\\tlog ku\n",
      "    kinDictionary[kt[0]]=[kt[0],kt[1],kt[2],int(kt[3]),float(kt[5]),float(kt[6])] \n",
      "print kinDictionary['1AYI']"
     ],
     "language": "python",
     "metadata": {},
     "outputs": [
      {
       "output_type": "stream",
       "stream": "stdout",
       "text": [
        "['1AYI', 'Two', 'a', 85, 3.13, 1.0]\n"
       ]
      }
     ],
     "prompt_number": 3
    },
    {
     "cell_type": "code",
     "collapsed": false,
     "input": [
      "# Read kinetics data and put in the dictionary\n",
      "conDict = {}\n",
      "cfl_ivan = open('./ivankov_pid_COs','r').readlines()\n",
      "conIvanDict = {}\n",
      "#'p.ID\\tChain\\tlength\\tAtom_Con\\tRes_Cont\\tRCO\\tACO\\tSRO\\tLRO\\tSR_per\\tMR_per\\tLR_per\\tLCO\\tNlCO\\tTCD\\n\n",
      "#print cfl_ivan\n",
      "for k in cfl_ivan[1:]:\n",
      "    kt = k.strip().split()\n",
      "    conIvanDict[kt[0]] = kt\n",
      "#print conIvanDict\n",
      "\n",
      "# Extract pdbIds with experimental information\n",
      "c = 0\n",
      "ivankov_Data = []\n",
      "\n",
      "for k in kinDictionary.keys():\n",
      "    if k in conIvanDict.keys():\n",
      "        ivankov_Data.append([k,kinDictionary[k][1],kinDictionary[k][2],kinDictionary[k][3],kinDictionary[k][4],\\\n",
      "                             kinDictionary[k][5],float(conIvanDict[k][5]),float(conIvanDict[k][6]),\\\n",
      "                             float(conIvanDict[k][7]),float(conIvanDict[k][8]),float(conIvanDict[k][9]),\\\n",
      "                             float(conIvanDict[k][10]),float(conIvanDict[k][11]),float(conIvanDict[k][12]),\\\n",
      "                             float(conIvanDict[k][13]),float(conIvanDict[k][14])])\n",
      "        c +=1\n",
      "print c\n",
      "\n",
      "cfl_broom = open('./kids_result_COs','r').readlines()\n",
      "cBromDic = {}\n",
      "BroomData = []\n",
      "\n",
      "for k in cfl_broom[1:]:\n",
      "    kt = k.strip().split()\n",
      "    cBromDic[kt[0]] = kt\n",
      "\n",
      "d = 0\n",
      "for k in kinDictionary.keys():\n",
      "    if k in cBromDic.keys():\n",
      "        BroomData.append([k,kinDictionary[k][1],kinDictionary[k][2],kinDictionary[k][3],kinDictionary[k][4],\\\n",
      "                          kinDictionary[k][5],float(cBromDic[k][5]),float(cBromDic[k][6]),float(cBromDic[k][7]),\\\n",
      "                          float(cBromDic[k][8]),float(cBromDic[k][9]),float(cBromDic[k][10]),\\\n",
      "                          float(cBromDic[k][11]),float(cBromDic[k][12]),float(cBromDic[k][13]),float(cBromDic[k][14])])\n",
      "        \n",
      "        #print k, kinDictionary[k][3], cBromDic[k][0],cBromDic[k][2]\n",
      "        d += 1\n",
      "print d"
     ],
     "language": "python",
     "metadata": {},
     "outputs": [
      {
       "output_type": "stream",
       "stream": "stdout",
       "text": [
        "43\n",
        "103\n"
       ]
      }
     ],
     "prompt_number": 4
    },
    {
     "cell_type": "code",
     "collapsed": false,
     "input": [
      "print len(ivankov_Data),len(BroomData),BroomData[9]"
     ],
     "language": "python",
     "metadata": {},
     "outputs": [
      {
       "output_type": "stream",
       "stream": "stdout",
       "text": [
        "43 103 ['2VKN', 'Two', 'b', 66, 0.92, -1.08, 0.372, 24.19, 0.803, 2.455, 11.017, 11.441, 68.644, 1.119, 21.436, 0.04798]\n"
       ]
      }
     ],
     "prompt_number": 5
    },
    {
     "cell_type": "code",
     "collapsed": false,
     "input": [
      "colnames = ['pid','ktype','class','length','log kf','log ku','rco','aco','sro','lro','sr_per','mr_per','lr_per','lco','nlco','tcd']"
     ],
     "language": "python",
     "metadata": {},
     "outputs": [],
     "prompt_number": 6
    },
    {
     "cell_type": "code",
     "collapsed": false,
     "input": [
      "ivDf = pd.DataFrame(ivankov_Data,columns=colnames)"
     ],
     "language": "python",
     "metadata": {},
     "outputs": [],
     "prompt_number": 7
    },
    {
     "cell_type": "code",
     "collapsed": false,
     "input": [
      "BrDf = pd.DataFrame(BroomData,columns=colnames)"
     ],
     "language": "python",
     "metadata": {},
     "outputs": [],
     "prompt_number": 8
    },
    {
     "cell_type": "code",
     "collapsed": false,
     "input": [
      "ivDf.describe()"
     ],
     "language": "python",
     "metadata": {},
     "outputs": [
      {
       "html": [
        "<div style=\"max-height:1000px;max-width:1500px;overflow:auto;\">\n",
        "<table border=\"1\" class=\"dataframe\">\n",
        "  <thead>\n",
        "    <tr style=\"text-align: right;\">\n",
        "      <th></th>\n",
        "      <th>length</th>\n",
        "      <th>log kf</th>\n",
        "      <th>log ku</th>\n",
        "      <th>rco</th>\n",
        "      <th>aco</th>\n",
        "      <th>sro</th>\n",
        "      <th>lro</th>\n",
        "      <th>sr_per</th>\n",
        "      <th>mr_per</th>\n",
        "      <th>lr_per</th>\n",
        "      <th>lco</th>\n",
        "      <th>nlco</th>\n",
        "      <th>tcd</th>\n",
        "    </tr>\n",
        "  </thead>\n",
        "  <tbody>\n",
        "    <tr>\n",
        "      <th>count</th>\n",
        "      <td>  43.000000</td>\n",
        "      <td> 43.000000</td>\n",
        "      <td> 43.000000</td>\n",
        "      <td> 43.000000</td>\n",
        "      <td> 43.000000</td>\n",
        "      <td> 43.000000</td>\n",
        "      <td> 43.000000</td>\n",
        "      <td> 43.000000</td>\n",
        "      <td> 43.000000</td>\n",
        "      <td> 43.000000</td>\n",
        "      <td> 43.000000</td>\n",
        "      <td> 43.000000</td>\n",
        "      <td> 43.000000</td>\n",
        "    </tr>\n",
        "    <tr>\n",
        "      <th>mean</th>\n",
        "      <td>  89.534884</td>\n",
        "      <td>  2.057907</td>\n",
        "      <td> -1.323023</td>\n",
        "      <td>  0.269419</td>\n",
        "      <td> 23.385930</td>\n",
        "      <td>  1.643581</td>\n",
        "      <td>  2.458860</td>\n",
        "      <td> 21.581977</td>\n",
        "      <td> 16.767302</td>\n",
        "      <td> 55.570140</td>\n",
        "      <td>  1.737140</td>\n",
        "      <td> 21.754581</td>\n",
        "      <td>  0.036078</td>\n",
        "    </tr>\n",
        "    <tr>\n",
        "      <th>std</th>\n",
        "      <td>  35.609890</td>\n",
        "      <td>  1.782816</td>\n",
        "      <td>  2.622759</td>\n",
        "      <td>  0.065814</td>\n",
        "      <td>  8.948781</td>\n",
        "      <td>  0.645343</td>\n",
        "      <td>  0.877885</td>\n",
        "      <td> 10.215057</td>\n",
        "      <td>  6.011477</td>\n",
        "      <td> 15.338569</td>\n",
        "      <td>  0.654071</td>\n",
        "      <td>  9.168784</td>\n",
        "      <td>  0.028697</td>\n",
        "    </tr>\n",
        "    <tr>\n",
        "      <th>min</th>\n",
        "      <td>  23.000000</td>\n",
        "      <td> -1.390000</td>\n",
        "      <td> -6.080000</td>\n",
        "      <td>  0.097000</td>\n",
        "      <td>  5.559000</td>\n",
        "      <td>  0.632000</td>\n",
        "      <td>  0.217000</td>\n",
        "      <td>  7.357000</td>\n",
        "      <td>  8.943000</td>\n",
        "      <td>  7.463000</td>\n",
        "      <td>  0.831000</td>\n",
        "      <td>  1.015000</td>\n",
        "      <td>  0.002785</td>\n",
        "    </tr>\n",
        "    <tr>\n",
        "      <th>25%</th>\n",
        "      <td>  65.000000</td>\n",
        "      <td>  0.520000</td>\n",
        "      <td> -3.060000</td>\n",
        "      <td>  0.228500</td>\n",
        "      <td> 19.096000</td>\n",
        "      <td>  1.195500</td>\n",
        "      <td>  1.800000</td>\n",
        "      <td> 13.828000</td>\n",
        "      <td> 11.828000</td>\n",
        "      <td> 48.027000</td>\n",
        "      <td>  1.292500</td>\n",
        "      <td> 17.723500</td>\n",
        "      <td>  0.016153</td>\n",
        "    </tr>\n",
        "    <tr>\n",
        "      <th>50%</th>\n",
        "      <td>  85.000000</td>\n",
        "      <td>  2.300000</td>\n",
        "      <td> -1.740000</td>\n",
        "      <td>  0.275000</td>\n",
        "      <td> 20.753000</td>\n",
        "      <td>  1.378000</td>\n",
        "      <td>  2.474000</td>\n",
        "      <td> 19.313000</td>\n",
        "      <td> 15.300000</td>\n",
        "      <td> 61.486000</td>\n",
        "      <td>  1.491000</td>\n",
        "      <td> 20.020000</td>\n",
        "      <td>  0.030547</td>\n",
        "    </tr>\n",
        "    <tr>\n",
        "      <th>75%</th>\n",
        "      <td> 106.500000</td>\n",
        "      <td>  3.170000</td>\n",
        "      <td> -0.020000</td>\n",
        "      <td>  0.317500</td>\n",
        "      <td> 30.912500</td>\n",
        "      <td>  2.041500</td>\n",
        "      <td>  2.943500</td>\n",
        "      <td> 24.941500</td>\n",
        "      <td> 21.782500</td>\n",
        "      <td> 66.076000</td>\n",
        "      <td>  2.147000</td>\n",
        "      <td> 29.336000</td>\n",
        "      <td>  0.047036</td>\n",
        "    </tr>\n",
        "    <tr>\n",
        "      <th>max</th>\n",
        "      <td> 164.000000</td>\n",
        "      <td>  5.300000</td>\n",
        "      <td>  5.730000</td>\n",
        "      <td>  0.383000</td>\n",
        "      <td> 43.442000</td>\n",
        "      <td>  2.918000</td>\n",
        "      <td>  4.591000</td>\n",
        "      <td> 50.746000</td>\n",
        "      <td> 32.836000</td>\n",
        "      <td> 76.839000</td>\n",
        "      <td>  3.642000</td>\n",
        "      <td> 42.855000</td>\n",
        "      <td>  0.126370</td>\n",
        "    </tr>\n",
        "  </tbody>\n",
        "</table>\n",
        "<p>8 rows \u00d7 13 columns</p>\n",
        "</div>"
       ],
       "metadata": {},
       "output_type": "pyout",
       "prompt_number": 9,
       "text": [
        "           length     log kf     log ku        rco        aco        sro  \\\n",
        "count   43.000000  43.000000  43.000000  43.000000  43.000000  43.000000   \n",
        "mean    89.534884   2.057907  -1.323023   0.269419  23.385930   1.643581   \n",
        "std     35.609890   1.782816   2.622759   0.065814   8.948781   0.645343   \n",
        "min     23.000000  -1.390000  -6.080000   0.097000   5.559000   0.632000   \n",
        "25%     65.000000   0.520000  -3.060000   0.228500  19.096000   1.195500   \n",
        "50%     85.000000   2.300000  -1.740000   0.275000  20.753000   1.378000   \n",
        "75%    106.500000   3.170000  -0.020000   0.317500  30.912500   2.041500   \n",
        "max    164.000000   5.300000   5.730000   0.383000  43.442000   2.918000   \n",
        "\n",
        "             lro     sr_per     mr_per     lr_per        lco       nlco  \\\n",
        "count  43.000000  43.000000  43.000000  43.000000  43.000000  43.000000   \n",
        "mean    2.458860  21.581977  16.767302  55.570140   1.737140  21.754581   \n",
        "std     0.877885  10.215057   6.011477  15.338569   0.654071   9.168784   \n",
        "min     0.217000   7.357000   8.943000   7.463000   0.831000   1.015000   \n",
        "25%     1.800000  13.828000  11.828000  48.027000   1.292500  17.723500   \n",
        "50%     2.474000  19.313000  15.300000  61.486000   1.491000  20.020000   \n",
        "75%     2.943500  24.941500  21.782500  66.076000   2.147000  29.336000   \n",
        "max     4.591000  50.746000  32.836000  76.839000   3.642000  42.855000   \n",
        "\n",
        "             tcd  \n",
        "count  43.000000  \n",
        "mean    0.036078  \n",
        "std     0.028697  \n",
        "min     0.002785  \n",
        "25%     0.016153  \n",
        "50%     0.030547  \n",
        "75%     0.047036  \n",
        "max     0.126370  \n",
        "\n",
        "[8 rows x 13 columns]"
       ]
      }
     ],
     "prompt_number": 9
    },
    {
     "cell_type": "code",
     "collapsed": false,
     "input": [
      "BrDf.describe()"
     ],
     "language": "python",
     "metadata": {},
     "outputs": [
      {
       "html": [
        "<div style=\"max-height:1000px;max-width:1500px;overflow:auto;\">\n",
        "<table border=\"1\" class=\"dataframe\">\n",
        "  <thead>\n",
        "    <tr style=\"text-align: right;\">\n",
        "      <th></th>\n",
        "      <th>length</th>\n",
        "      <th>log kf</th>\n",
        "      <th>log ku</th>\n",
        "      <th>rco</th>\n",
        "      <th>aco</th>\n",
        "      <th>sro</th>\n",
        "      <th>lro</th>\n",
        "      <th>sr_per</th>\n",
        "      <th>mr_per</th>\n",
        "      <th>lr_per</th>\n",
        "      <th>lco</th>\n",
        "      <th>nlco</th>\n",
        "      <th>tcd</th>\n",
        "    </tr>\n",
        "  </thead>\n",
        "  <tbody>\n",
        "    <tr>\n",
        "      <th>count</th>\n",
        "      <td> 103.000000</td>\n",
        "      <td> 103.000000</td>\n",
        "      <td> 103.000000</td>\n",
        "      <td> 103.000000</td>\n",
        "      <td> 103.000000</td>\n",
        "      <td> 103.000000</td>\n",
        "      <td> 103.000000</td>\n",
        "      <td> 103.000000</td>\n",
        "      <td> 103.000000</td>\n",
        "      <td> 103.000000</td>\n",
        "      <td> 103.000000</td>\n",
        "      <td> 103.000000</td>\n",
        "      <td> 103.000000</td>\n",
        "    </tr>\n",
        "    <tr>\n",
        "      <th>mean</th>\n",
        "      <td>  98.223301</td>\n",
        "      <td>   1.968641</td>\n",
        "      <td>  -1.540680</td>\n",
        "      <td>   0.259165</td>\n",
        "      <td>  22.982204</td>\n",
        "      <td>   1.736689</td>\n",
        "      <td>   2.450534</td>\n",
        "      <td>  21.919107</td>\n",
        "      <td>  17.270447</td>\n",
        "      <td>  54.469728</td>\n",
        "      <td>   1.778408</td>\n",
        "      <td>  21.543573</td>\n",
        "      <td>   0.038025</td>\n",
        "    </tr>\n",
        "    <tr>\n",
        "      <th>std</th>\n",
        "      <td>  51.296128</td>\n",
        "      <td>   1.884415</td>\n",
        "      <td>   2.936201</td>\n",
        "      <td>   0.085515</td>\n",
        "      <td>   9.685721</td>\n",
        "      <td>   0.694049</td>\n",
        "      <td>   0.883566</td>\n",
        "      <td>   9.416225</td>\n",
        "      <td>   6.299073</td>\n",
        "      <td>  14.440194</td>\n",
        "      <td>   0.639688</td>\n",
        "      <td>  10.407083</td>\n",
        "      <td>   0.035138</td>\n",
        "    </tr>\n",
        "    <tr>\n",
        "      <th>min</th>\n",
        "      <td>  16.000000</td>\n",
        "      <td>  -3.870000</td>\n",
        "      <td> -10.420000</td>\n",
        "      <td>   0.089000</td>\n",
        "      <td>   5.559000</td>\n",
        "      <td>   0.000000</td>\n",
        "      <td>   0.217000</td>\n",
        "      <td>   0.000000</td>\n",
        "      <td>   0.000000</td>\n",
        "      <td>   7.463000</td>\n",
        "      <td>   0.000000</td>\n",
        "      <td>   1.015000</td>\n",
        "      <td>   0.002678</td>\n",
        "    </tr>\n",
        "    <tr>\n",
        "      <th>25%</th>\n",
        "      <td>  63.000000</td>\n",
        "      <td>   0.785000</td>\n",
        "      <td>  -3.540000</td>\n",
        "      <td>   0.207000</td>\n",
        "      <td>  15.476500</td>\n",
        "      <td>   1.238500</td>\n",
        "      <td>   1.768000</td>\n",
        "      <td>  14.640000</td>\n",
        "      <td>  12.615000</td>\n",
        "      <td>  43.619500</td>\n",
        "      <td>   1.318000</td>\n",
        "      <td>  13.860000</td>\n",
        "      <td>   0.015567</td>\n",
        "    </tr>\n",
        "    <tr>\n",
        "      <th>50%</th>\n",
        "      <td>  89.000000</td>\n",
        "      <td>   1.910000</td>\n",
        "      <td>  -1.740000</td>\n",
        "      <td>   0.248000</td>\n",
        "      <td>  20.765000</td>\n",
        "      <td>   1.600000</td>\n",
        "      <td>   2.551000</td>\n",
        "      <td>  21.045000</td>\n",
        "      <td>  15.427000</td>\n",
        "      <td>  59.797000</td>\n",
        "      <td>   1.601000</td>\n",
        "      <td>  20.337000</td>\n",
        "      <td>   0.030177</td>\n",
        "    </tr>\n",
        "    <tr>\n",
        "      <th>75%</th>\n",
        "      <td> 123.000000</td>\n",
        "      <td>   3.170000</td>\n",
        "      <td>   0.110000</td>\n",
        "      <td>   0.313000</td>\n",
        "      <td>  30.068000</td>\n",
        "      <td>   2.346000</td>\n",
        "      <td>   3.040000</td>\n",
        "      <td>  27.566500</td>\n",
        "      <td>  22.462000</td>\n",
        "      <td>  65.564000</td>\n",
        "      <td>   2.211000</td>\n",
        "      <td>  28.747500</td>\n",
        "      <td>   0.047746</td>\n",
        "    </tr>\n",
        "    <tr>\n",
        "      <th>max</th>\n",
        "      <td> 307.000000</td>\n",
        "      <td>   5.430000</td>\n",
        "      <td>   5.730000</td>\n",
        "      <td>   0.650000</td>\n",
        "      <td>  60.600000</td>\n",
        "      <td>   3.310000</td>\n",
        "      <td>   4.591000</td>\n",
        "      <td>  50.746000</td>\n",
        "      <td>  35.484000</td>\n",
        "      <td>  76.839000</td>\n",
        "      <td>   3.642000</td>\n",
        "      <td>  62.780000</td>\n",
        "      <td>   0.234375</td>\n",
        "    </tr>\n",
        "  </tbody>\n",
        "</table>\n",
        "<p>8 rows \u00d7 13 columns</p>\n",
        "</div>"
       ],
       "metadata": {},
       "output_type": "pyout",
       "prompt_number": 10,
       "text": [
        "           length      log kf      log ku         rco         aco         sro  \\\n",
        "count  103.000000  103.000000  103.000000  103.000000  103.000000  103.000000   \n",
        "mean    98.223301    1.968641   -1.540680    0.259165   22.982204    1.736689   \n",
        "std     51.296128    1.884415    2.936201    0.085515    9.685721    0.694049   \n",
        "min     16.000000   -3.870000  -10.420000    0.089000    5.559000    0.000000   \n",
        "25%     63.000000    0.785000   -3.540000    0.207000   15.476500    1.238500   \n",
        "50%     89.000000    1.910000   -1.740000    0.248000   20.765000    1.600000   \n",
        "75%    123.000000    3.170000    0.110000    0.313000   30.068000    2.346000   \n",
        "max    307.000000    5.430000    5.730000    0.650000   60.600000    3.310000   \n",
        "\n",
        "              lro      sr_per      mr_per      lr_per         lco        nlco  \\\n",
        "count  103.000000  103.000000  103.000000  103.000000  103.000000  103.000000   \n",
        "mean     2.450534   21.919107   17.270447   54.469728    1.778408   21.543573   \n",
        "std      0.883566    9.416225    6.299073   14.440194    0.639688   10.407083   \n",
        "min      0.217000    0.000000    0.000000    7.463000    0.000000    1.015000   \n",
        "25%      1.768000   14.640000   12.615000   43.619500    1.318000   13.860000   \n",
        "50%      2.551000   21.045000   15.427000   59.797000    1.601000   20.337000   \n",
        "75%      3.040000   27.566500   22.462000   65.564000    2.211000   28.747500   \n",
        "max      4.591000   50.746000   35.484000   76.839000    3.642000   62.780000   \n",
        "\n",
        "              tcd  \n",
        "count  103.000000  \n",
        "mean     0.038025  \n",
        "std      0.035138  \n",
        "min      0.002678  \n",
        "25%      0.015567  \n",
        "50%      0.030177  \n",
        "75%      0.047746  \n",
        "max      0.234375  \n",
        "\n",
        "[8 rows x 13 columns]"
       ]
      }
     ],
     "prompt_number": 10
    },
    {
     "cell_type": "code",
     "collapsed": false,
     "input": [
      "# Import the necessary libraries\n",
      "from __future__ import division, print_function\n",
      "import numpy as np\n",
      "import matplotlib.pyplot as plt\n",
      "%matplotlib inline\n",
      "import scipy.stats as stats"
     ],
     "language": "python",
     "metadata": {},
     "outputs": [],
     "prompt_number": 11
    },
    {
     "cell_type": "code",
     "collapsed": false,
     "input": [
      "plt.plot(ivDf[ivDf[\"class\"]==\"a\"]['aco'],ivDf[ivDf[\"class\"]==\"a\"]['log ku'],'bo',label='alpha')\n",
      "plt.plot(ivDf[ivDf[\"class\"]==\"b\"]['aco'],ivDf[ivDf[\"class\"]==\"b\"]['log ku'],'ro',label='beta')\n",
      "plt.plot(ivDf[ivDf[\"class\"]==\"ab\"]['aco'],ivDf[ivDf[\"class\"]==\"ab\"]['log ku'],'gs',label='ab')\n",
      "plt.legend(loc=0)\n",
      "plt.xlabel(\"ACO\")\n",
      "plt.ylabel(\"-log ku (s^-1)\")\n",
      "plt.show()"
     ],
     "language": "python",
     "metadata": {},
     "outputs": [
      {
       "metadata": {},
       "output_type": "display_data",
       "png": "[encoded data removed]",
       "text": [
        "<matplotlib.figure.Figure at 0x7f755b330c50>"
       ]
      }
     ],
     "prompt_number": 12
    },
    {
     "cell_type": "code",
     "collapsed": false,
     "input": [
      "x = ivDf['aco']\n",
      "y = ivDf['log ku']\n",
      "x_lro = ivDf['lro']\n",
      "\n",
      "p, cov = np.polyfit(x, y, 1, cov=True)  # coefficients and covariance matrix\n",
      "yfit = np.polyval(p, x)          # evaluate the polynomial at x\n",
      "\n",
      "perr = np.sqrt(np.diag(cov))     # standard-deviation estimates for each coefficient\n",
      "R2 = np.corrcoef(x, y)[0, 1]**2  # coefficient of determination between x and y\n",
      "resid = y - yfit\n",
      "#chi2red = np.sum((resid/yerr)**2)/(y.size - 2)\n",
      "\n",
      "plt.figure(figsize=(10, 5))\n",
      "\n",
      "plt.plot(ivDf[ivDf[\"class\"]==\"a\"]['aco'],ivDf[ivDf[\"class\"]==\"a\"]['log ku'],'bo',label='alpha')\n",
      "plt.plot(ivDf[ivDf[\"class\"]==\"b\"]['aco'],ivDf[ivDf[\"class\"]==\"b\"]['log ku'],'ro',label='beta')\n",
      "plt.plot(ivDf[ivDf[\"class\"]==\"ab\"]['aco'],ivDf[ivDf[\"class\"]==\"ab\"]['log ku'],'gs',label='ab')\n",
      "plt.plot(x, yfit, 'r', linewidth=3)\n",
      "plt.xlabel('ACO', fontsize=16)\n",
      "plt.ylabel('log ku (s^-1)', fontsize=16)\n",
      "plt.show()\n"
     ],
     "language": "python",
     "metadata": {},
     "outputs": [
      {
       "metadata": {},
       "output_type": "display_data",
       "png": "[encoded data removed]",
       "text": [
        "<matplotlib.figure.Figure at 0x7f755aa8e390>"
       ]
      }
     ],
     "prompt_number": 13
    },
    {
     "cell_type": "code",
     "collapsed": false,
     "input": [
      "f2 = float(R2)"
     ],
     "language": "python",
     "metadata": {},
     "outputs": [],
     "prompt_number": 14
    },
    {
     "cell_type": "code",
     "collapsed": false,
     "input": [
      "from scipy.stats import pearsonr\n",
      "pearsonr(x,y)"
     ],
     "language": "python",
     "metadata": {},
     "outputs": [
      {
       "metadata": {},
       "output_type": "pyout",
       "prompt_number": 15,
       "text": [
        "(-0.76585466541416503, 2.1823356412130733e-09)"
       ]
      }
     ],
     "prompt_number": 15
    },
    {
     "cell_type": "raw",
     "metadata": {},
     "source": [
      "Correlation and linear fitting between unfolding and folding rate."
     ]
    },
    {
     "cell_type": "code",
     "collapsed": false,
     "input": [
      "def findCorr(p1,p2,offset):\n",
      "    \"\"\"\n",
      "    p1,p2 are the two indipendent variables in the data frame.\n",
      "    \"\"\"\n",
      "    # Extract from ivankov Data\n",
      "    p1_iv = ivDf[p1]\n",
      "    p2_iv = ivDf[p2]\n",
      "\n",
      "    # Data from kinetic DB and Ivankov\n",
      "    fitParameters_iv = np.polyfit(p1_iv,p2_iv,1)\n",
      "    yfit_iv = np.polyval(fitParameters_iv,p1_iv)\n",
      "    (R_iv,P_iv) = pearsonr(p1_iv,p2_iv)\n",
      "\n",
      "    # data from Brioom etal paper,2015\n",
      "    p1_br = BrDf[p1]\n",
      "    p2_br = BrDf[p2]#['log kf']\n",
      "    \n",
      "    # Fitting line and fingding correlation\n",
      "    fitParameters_bf = np.polyfit(p1_br,p2_br,1)\n",
      "    yfit_bf = np.polyval(fitParameters_bf,p1_br)\n",
      "\n",
      "    (R_br,P_br) = pearsonr(p1_br,p2_br)\n",
      "\n",
      "    plt.figure(figsize=(10,3))\n",
      "    \n",
      "    ax1 = plt.subplot(1,2,1)\n",
      "    ax1.plot(ivDf[ivDf[\"class\"]==\"a\"][p1],ivDf[ivDf[\"class\"]==\"a\"][p2],'bo')\n",
      "    ax1.plot(ivDf[ivDf[\"class\"]==\"b\"][p1],ivDf[ivDf[\"class\"]==\"b\"][p2],'go')\n",
      "    ax1.plot(ivDf[ivDf[\"class\"]==\"ab\"][p1],ivDf[ivDf[\"class\"]==\"ab\"][p2],'ks')\n",
      "    \n",
      "    ax1.plot(p1_iv,yfit_iv,'r-')\n",
      "    \n",
      "    ax1.set_xlabel(p1)\n",
      "    ax1.set_ylabel(p2)\n",
      "    ax1.set_title(\"Data from KineticDB(=%d)\"%len(p1_iv))\n",
      "    ax1.text(offset[0],offset[1],\"%s= %0.3f+%0.3f*%s\"%(p2,fitParameters_iv[1],fitParameters_iv[0],p1))\n",
      "    ax1.text(offset[0],offset[1]-1,\"R2=%0.3f\"%(R_iv))\n",
      "\n",
      "\n",
      "    ax2 = plt.subplot(1,2,2)\n",
      "    ax2.plot(BrDf[BrDf[\"class\"]==\"a\"][p1],BrDf[BrDf[\"class\"]==\"a\"][p2],'bo')\n",
      "    ax2.plot(BrDf[BrDf[\"class\"]==\"b\"][p1],BrDf[BrDf[\"class\"]==\"b\"][p2],'go')\n",
      "    ax2.plot(BrDf[BrDf[\"class\"]==\"ab\"][p1],BrDf[BrDf[\"class\"]==\"ab\"][p2],'ks')\n",
      "    \n",
      "    ax2.plot(p1_br,yfit_bf,'r-')\n",
      "\n",
      "    ax2.set_xlabel(p1)\n",
      "    ax2.set_ylabel(p2)\n",
      "    ax2.set_title(\"Data from protein Paper (=%d)\"%len(p1_br))\n",
      "    ax2.text(offset[0],offset[1],\"%s= %0.3f+%0.3f*%s\"%(p2,fitParameters_bf[1],fitParameters_bf[0],p1))\n",
      "    ax2.text(offset[0],offset[1]-1,\"R2=%0.3f\"%(R_br))\n",
      "    \n",
      "    plt.show()\n",
      "    return ((R_iv,P_iv),(R_br,P_br))\n",
      "\n",
      "pcorr_kfu = findCorr('log kf','log ku',[-2,4])\n",
      "pcorr_acoKu = findCorr('aco','log ku',[25,4])\n",
      "#print cr,p"
     ],
     "language": "python",
     "metadata": {},
     "outputs": [
      {
       "metadata": {},
       "output_type": "display_data",
       "png": "[encoded data removed]",
       "text": [
        "<matplotlib.figure.Figure at 0x7f755a6b2110>"
       ]
      },
      {
       "metadata": {},
       "output_type": "display_data",
       "png": "[encoded data removed]",
       "text": [
        "<matplotlib.figure.Figure at 0x7f756605d4d0>"
       ]
      }
     ],
     "prompt_number": 81
    },
    {
     "cell_type": "code",
     "collapsed": false,
     "input": [
      "pcorr_lroKu = findCorr('lro','log ku',[3,5])\n",
      "pcorr_lroKf = findCorr('lro','log kf',[3,5])"
     ],
     "language": "python",
     "metadata": {},
     "outputs": [
      {
       "metadata": {},
       "output_type": "display_data",
       "png": "[encoded data removed]",
       "text": [
        "<matplotlib.figure.Figure at 0x7f755a514110>"
       ]
      },
      {
       "metadata": {},
       "output_type": "display_data",
       "png": "[encoded data removed]",
       "text": [
        "<matplotlib.figure.Figure at 0x7f755a5a09d0>"
       ]
      }
     ],
     "prompt_number": 85
    },
    {
     "cell_type": "code",
     "collapsed": false,
     "input": [
      "cr,p"
     ],
     "language": "python",
     "metadata": {},
     "outputs": [
      {
       "metadata": {},
       "output_type": "pyout",
       "prompt_number": 29,
       "text": [
        "(0.69873568276109477, 1.8817423947619771e-07)"
       ]
      }
     ],
     "prompt_number": 29
    },
    {
     "cell_type": "code",
     "collapsed": false,
     "input": [],
     "language": "python",
     "metadata": {},
     "outputs": []
    }
   ],
   "metadata": {}
  }
 ]
}